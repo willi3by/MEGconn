{
 "cells": [
  {
   "cell_type": "code",
   "execution_count": 1,
   "metadata": {},
   "outputs": [],
   "source": [
    "import numpy as np\n",
    "from scipy.io import loadmat, savemat\n",
    "from numpy import random\n",
    "from utils import load_mat_trials_data, demean_trials\n",
    "from surrogate_fns import refined_AAFT_surrogates\n",
    "import matplotlib.pyplot as plt\n",
    "from freq_fns import mtmfft\n",
    "from conn_fns import compute_wpli\n",
    "from scipy.signal.windows import dpss"
   ]
  },
  {
   "cell_type": "code",
   "execution_count": 2,
   "metadata": {},
   "outputs": [],
   "source": [
    "trials = load_mat_trials_data('/Users/willi3by/Desktop/verbs_adolescents_wholebrain_vs/CTL_01_verb_vs.mat')\n",
    "test_fft, freqs = mtmfft(trials, 2, 1200, [1,100])\n",
    "wpli = compute_wpli(test_fft, l2norm=True)"
   ]
  },
  {
   "cell_type": "code",
   "execution_count": null,
   "metadata": {},
   "outputs": [],
   "source": []
  },
  {
   "cell_type": "code",
   "execution_count": null,
   "metadata": {},
   "outputs": [],
   "source": []
  }
 ],
 "metadata": {
  "kernelspec": {
   "display_name": "MEG",
   "language": "python",
   "name": "python3"
  },
  "language_info": {
   "codemirror_mode": {
    "name": "ipython",
    "version": 3
   },
   "file_extension": ".py",
   "mimetype": "text/x-python",
   "name": "python",
   "nbconvert_exporter": "python",
   "pygments_lexer": "ipython3",
   "version": "3.9.19"
  }
 },
 "nbformat": 4,
 "nbformat_minor": 2
}
