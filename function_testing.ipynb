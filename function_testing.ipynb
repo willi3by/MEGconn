{
 "cells": [
  {
   "cell_type": "code",
   "execution_count": 4,
   "metadata": {},
   "outputs": [],
   "source": [
    "from megconn import get_wpli_z\n",
    "import numpy as np\n",
    "from scipy.io import loadmat, savemat\n",
    "import matplotlib.pyplot as plt\n",
    "import networkx as nx\n",
    "from attack_fns import *\n",
    "import os"
   ]
  },
  {
   "cell_type": "code",
   "execution_count": null,
   "metadata": {},
   "outputs": [],
   "source": [
    "wpli_z = get_wpli_z('/mnt/c/Users/willi3by/Desktop/CTL_01_verb_vs.mat', mat_field='vs_verb')\n",
    "first_comp, second_comp, node_part = simulate_random_attacks(wpli_z, 1000, z_thresh=2)"
   ]
  },
  {
   "cell_type": "code",
   "execution_count": 5,
   "metadata": {},
   "outputs": [],
   "source": [
    "os.chdir('/mnt/c/Users/willi3by/Desktop/imcoh_verb_z')\n",
    "adj = loadmat('AD01_z.mat')['verb_z']\n",
    "first_comp, second_comp, participation = simulate_random_attacks(adj, 1000, 1.64)"
   ]
  },
  {
   "cell_type": "code",
   "execution_count": null,
   "metadata": {},
   "outputs": [],
   "source": [
    "first_comp_mean = first_comp.mean(axis=0)\n",
    "second_comp_mean = second_comp.mean(axis=0)\n",
    "\n",
    "# Create the figure and the first y-axis\n",
    "fig, ax1 = plt.subplots()\n",
    "\n",
    "# Plot the first dataset (first_comp) on the first y-axis\n",
    "ax1.plot(first_comp_mean, color='b', label='First Component Mean')\n",
    "ax1.set_xlabel('Attack Step')\n",
    "ax1.set_ylabel('First Component Size', color='b')\n",
    "ax1.tick_params(axis='y', labelcolor='b')\n",
    "\n",
    "# Create a second y-axis sharing the same x-axis\n",
    "ax2 = ax1.twinx()\n",
    "\n",
    "# Plot the second dataset (second_comp) on the second y-axis\n",
    "ax2.plot(second_comp_mean, color='r', label='Second Component Mean')\n",
    "ax2.set_ylabel('Second Component Size', color='r')\n",
    "ax2.tick_params(axis='y', labelcolor='r')\n",
    "\n",
    "# Add legends\n",
    "ax1.legend(loc='upper left')\n",
    "ax2.legend(loc='upper right')\n",
    "\n",
    "# Show the plot\n",
    "plt.title('Comparison of First and Second Component Sizes')\n",
    "plt.show()"
   ]
  },
  {
   "cell_type": "code",
   "execution_count": null,
   "metadata": {},
   "outputs": [],
   "source": []
  }
 ],
 "metadata": {
  "kernelspec": {
   "display_name": "MEG",
   "language": "python",
   "name": "python3"
  },
  "language_info": {
   "codemirror_mode": {
    "name": "ipython",
    "version": 3
   },
   "file_extension": ".py",
   "mimetype": "text/x-python",
   "name": "python",
   "nbconvert_exporter": "python",
   "pygments_lexer": "ipython3",
   "version": "3.10.14"
  }
 },
 "nbformat": 4,
 "nbformat_minor": 2
}
